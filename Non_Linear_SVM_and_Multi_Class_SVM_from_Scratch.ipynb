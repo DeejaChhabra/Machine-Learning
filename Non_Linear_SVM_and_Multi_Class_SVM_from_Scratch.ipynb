{
 "cells": [
  {
   "cell_type": "code",
   "execution_count": 9,
   "id": "71f32548",
   "metadata": {},
   "outputs": [],
   "source": [
    "%matplotlib widget\n",
    "\n",
    "import numpy as np\n",
    "from sklearn import datasets\n",
    "from sklearn.datasets import make_circles\n",
    "from sklearn.model_selection import train_test_split\n",
    "from mpl_toolkits.mplot3d import Axes3D\n",
    "import matplotlib.pyplot as plt\n",
    "from mlxtend.plotting.decision_regions import plot_decision_regions\n",
    "from sklearn.metrics import accuracy_score\n",
    "from sklearn import svm"
   ]
  },
  {
   "cell_type": "markdown",
   "id": "62a86ef3",
   "metadata": {},
   "source": [
    "Importing Make Circles Datset"
   ]
  },
  {
   "cell_type": "code",
   "execution_count": 10,
   "id": "11df93be",
   "metadata": {},
   "outputs": [],
   "source": [
    "X, y = make_circles(n_samples=100, factor=0.3, noise=0.05, random_state=0)\n",
    "X_train, X_test, y_train, y_test = train_test_split(X, y, stratify=y, random_state=0)"
   ]
  },
  {
   "cell_type": "markdown",
   "id": "f6bb530e",
   "metadata": {},
   "source": [
    "# Non Linear SVM "
   ]
  },
  {
   "cell_type": "markdown",
   "id": "dbfbb570",
   "metadata": {},
   "source": [
    "Used a Polynomial kernel"
   ]
  },
  {
   "cell_type": "code",
   "execution_count": 11,
   "id": "581bb3f7",
   "metadata": {},
   "outputs": [],
   "source": [
    "def linear_kernel(x1, x2):\n",
    "    return x1.T @ x2\n",
    "def poly_kernel(x1, x2, d = 2, c = 0):\n",
    "    return (x1 @ x2.T + c)**d\n",
    "\n",
    "class svm():\n",
    "    def __init__(self, kernel='poly', c=1.0, tol=1e-3, maxiter=100):\n",
    "        self._kernel = kernel\n",
    "        self._tol = tol\n",
    "        self._maxiter = maxiter\n",
    "        \n",
    "#         if self._kernel == 'linear':\n",
    "#             self._k = linear_kernel\n",
    "        if self._kernel == 'poly':\n",
    "            self._k = poly_kernel\n",
    "        \n",
    "        self._c = c\n",
    "        \n",
    "    def _init_params(self):\n",
    "        self._error_cache = np.zeros(self._data.shape[0])\n",
    "        self._alphas = np.ones(self._data.shape[0]) * .1\n",
    "        self._b = 0\n",
    "        \n",
    "        if self._kernel == 'poly':\n",
    "            self._weights = np.random.rand(self._data.shape[1])\n",
    "        \n",
    "\n",
    "    def predict_score(self, x):\n",
    "        \"\"\"Predicts a raw score (not classification)\n",
    "        \n",
    "        Arguments\n",
    "            x, array (batch_size, n_features) - input samples.\n",
    "        \"\"\"\n",
    "        u = 0\n",
    "#         if self._kernel == 'linear':\n",
    "#             u = self._weights @ x.T - self._b\n",
    "#         else:\n",
    "        if self._kernel == 'poly':\n",
    "            for i in range(self._data.shape[0]):\n",
    "                u += self._targets[i] * self._alphas[i] * self._k(self._data[i], x)\n",
    "            u -= self._b\n",
    "\n",
    "        return u\n",
    "        \n",
    "    def predict(self, x):\n",
    "        \"\"\"Classifies input samples.\n",
    "        \n",
    "        Arguments\n",
    "            x, array (batch_size, n_features) - input samples.\n",
    "        \"\"\"\n",
    "        score = self.predict_score(x)\n",
    "\n",
    "        if type(score) is np.ndarray:\n",
    "            score[score < 0] = -1\n",
    "            score[score >= 0] = 1\n",
    "\n",
    "            return score\n",
    "        else:\n",
    "            return 0 if score < 0 else 1\n",
    "\n",
    "    def smo_step(self, i1, i2):\n",
    "        if i1 == i2:\n",
    "            return 0\n",
    "\n",
    "        x1 = self._data[i1]\n",
    "        x2 = self._data[i2]\n",
    "        y1 = self._targets[i1]\n",
    "        y2 = self._targets[i2]\n",
    "        alpha1 = self._alphas[i1]\n",
    "        alpha2 = self._alphas[i2]\n",
    "\n",
    "        # Compute errors for x1 and x2\n",
    "        e1 = self.predict_score(x1) - y1\n",
    "        e2 = self.predict_score(x2) - y2\n",
    "\n",
    "        s = y1 * y2\n",
    "\n",
    "        if s == 1:\n",
    "            L = max(0, alpha2 + alpha1 - self._c)\n",
    "            H = min(self._c, alpha2 + alpha1)\n",
    "        else:\n",
    "            L = max(0, alpha2 - alpha1)\n",
    "            H = min(self._c, self._c + alpha2 - alpha1)\n",
    "\n",
    "        if L == H:\n",
    "            return 0\n",
    "\n",
    "        k11 = self._k(x1, x1)\n",
    "        k22 = self._k(x2, x2)\n",
    "        k12 = self._k(x1, x2)\n",
    "\n",
    "        eta = k11 + k22 - 2 * k12\n",
    "\n",
    "        if eta > 0:\n",
    "            a2 = alpha2 + y2 * (e1 - e2) / eta\n",
    "            if a2 <= L:\n",
    "                a2 = L\n",
    "            elif a2 >= H:\n",
    "                a2 = H\n",
    "        # TODO: the negative case\n",
    "        else:\n",
    "            print(f\"[DEBUG] smo_step: eta = {eta}\")\n",
    "            \n",
    "        if np.abs(a2 - alpha2) < 1e-3 * (a2 + alpha2 + 1e-3):\n",
    "            return 0\n",
    "\n",
    "        a1 = alpha1 + s * (alpha2 - a2)\n",
    "\n",
    "        # Update threshold to reflect change in Lagrange multipliers\n",
    "        b1 = e1 + y1 * (a1 - alpha1) * k11 + y2 * (a2 - alpha2) * k12 + self._b\n",
    "        b2 = e2 + y1 * (a1 - alpha1) * k12 + y2 * (a2 - alpha2) * k22 + self._b\n",
    "        self._b = (b1 + b2) / 2\n",
    "\n",
    "        # Update weight vector to reflect change in a1 & a2, if SVM is linear\n",
    "        if self._kernel == 'linear':\n",
    "            self._weights = np.sum((self._targets * self._alphas)[:, None] * self._data, axis=0)\n",
    "        \n",
    "        # Store a1 and a2 in alpha array\n",
    "        self._alphas[i1] = a1\n",
    "        self._alphas[i2] = a2\n",
    "\n",
    "        # update error cache using new multipliers\n",
    "        for i in range (self._data.shape[0]):\n",
    "            self._error_cache[i] = self.predict_score(self._data[i]) - self._targets[i]\n",
    "\n",
    "        return 1\n",
    "\n",
    "    def examine(self, i2):\n",
    "        x2 = self._data[i2]\n",
    "        y2 = self._targets[i2]\n",
    "        alpha2 = self._alphas[i2]\n",
    "        e2 = self.predict_score(x2) - y2\n",
    "        r2 = e2 * y2\n",
    "\n",
    "        # Heuristic for picking the first multiplier\n",
    "        if (r2 < -self._tol and alpha2 < self._c) or (r2 > self._tol and alpha2 > 0):\n",
    "            f_idxs = np.where((self._alphas != 0) & (self._alphas != self._c))[0]\n",
    "\n",
    "            if len(f_idxs) > 1:\n",
    "                # Hueristic for second multiplier: get i1 with lowest absolute error |e1 - e2|\n",
    "\n",
    "                # TODO: Clean this up\n",
    "                if e2 > 0:\n",
    "                    min_error = 999999\n",
    "                    for i, v in enumerate(f_idxs):\n",
    "                        if v == i2:\n",
    "                            continue\n",
    "\n",
    "                        if self._error_cache[v] == 0:\n",
    "                            self._error_cache[v] = self.predict_score(self._data[v]) - self._targets[v]\n",
    "                        error = np.abs(e2 - self._error_cache[v])\n",
    "\n",
    "                        if error < min_error:\n",
    "                            min_error = error\n",
    "                            i1 = v\n",
    "                else:\n",
    "                    max_error = -999999\n",
    "                    for i, v in enumerate(f_idxs):\n",
    "                        if v == i2:\n",
    "                            continue\n",
    "\n",
    "                        if self._error_cache[v] == 0:\n",
    "                            self._error_cache[v] = self.predict_score(self._data[v]) - self._targets[v]\n",
    "                        error = np.abs(e2 - self._error_cache[v])\n",
    "\n",
    "                        if error > max_error:\n",
    "                            max_error = error\n",
    "                            i1 = v\n",
    "\n",
    "                if self.smo_step(i1, i2):\n",
    "                    return 1\n",
    "                \n",
    "                # Loop over all non-zero and non-C alpha, starting at random point\n",
    "                for i, v in enumerate(np.random.permutation(f_idxs)):\n",
    "                    if self.smo_step(v, i2):\n",
    "                        return 1\n",
    "                \n",
    "                # Loop over all possible i1, starting at a random point\n",
    "                for i, v in enumerate(np.random.permutation(range(self._data.shape[0]))):\n",
    "                    if v == i2:\n",
    "                        continue\n",
    "                    if self.smo_step(v, i2):\n",
    "                        return 1\n",
    "                \n",
    "        return 0\n",
    "    \n",
    "    def fit(self, data, targets):\n",
    "        self._data = data\n",
    "        self._targets = targets\n",
    "        \n",
    "        self._init_params()\n",
    "        \n",
    "        n_changed = 0\n",
    "        examine_all = True\n",
    "        n_iter = 0\n",
    "        \n",
    "        while (n_changed > 0 or examine_all is True) and n_iter < self._maxiter:\n",
    "            n_changed = 0\n",
    "            n_iter += 1\n",
    "            \n",
    "            if examine_all is True:\n",
    "                # loop over all training examples\n",
    "                for i in range(data.shape[0]):\n",
    "                    n_changed += self.examine(i)\n",
    "            else:\n",
    "                # loop over examples where alpha is not 0 & not C\n",
    "                f_idxs = np.where((self._alphas != 0) & (self._alphas != self._c))[0]\n",
    "                for i, v in enumerate(f_idxs):\n",
    "                    n_changed += self.examine(v)\n",
    "            \n",
    "            if examine_all is True:\n",
    "                examine_all = False\n",
    "            elif n_changed == 0:\n",
    "                examine_all = True"
   ]
  },
  {
   "cell_type": "markdown",
   "id": "2f1c40e9",
   "metadata": {},
   "source": [
    "Trained the model using above Non Linear SVM"
   ]
  },
  {
   "cell_type": "code",
   "execution_count": 12,
   "id": "76a47173",
   "metadata": {
    "scrolled": true
   },
   "outputs": [
    {
     "name": "stdout",
     "output_type": "stream",
     "text": [
      "[0.78010363 0.08435972]\n",
      "4.479930864513921\n",
      "accuracy 100.0\n"
     ]
    },
    {
     "data": {
      "application/vnd.jupyter.widget-view+json": {
       "model_id": "d67cc82745f944e8a7c32e1012403628",
       "version_major": 2,
       "version_minor": 0
      },
      "image/png": "[encoded data removed]",
      "text/html": [
       "\n",
       "            <div style=\"display: inline-block;\">\n",
       "                <div class=\"jupyter-widgets widget-label\" style=\"text-align: center;\">\n",
       "                    Figure\n",
       "                </div>\n",
       "                <img src='data:image/png;base64,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' width=640.0/>\n",
       "            </div>\n",
       "        "
      ],
      "text/plain": [
       "Canvas(toolbar=Toolbar(toolitems=[('Home', 'Reset original view', 'home', 'home'), ('Back', 'Back to previous …"
      ]
     },
     "metadata": {},
     "output_type": "display_data"
    }
   ],
   "source": [
    "model = svm(c=5.0)\n",
    "model.fit(X_train, y_train)\n",
    "print(model._weights)\n",
    "print(model._b)\n",
    "\n",
    "fig = plt.figure()\n",
    "ax = plot_decision_regions(X_train, y_train, model)\n",
    "fig.add_subplot(ax)\n",
    "\n",
    "y_pred = model.predict(X_test)\n",
    "# print(y_pred)\n",
    "for i in range (len(y_pred)):\n",
    "    if y_pred[i] == -1:\n",
    "        y_pred[i] = 1\n",
    "    else:\n",
    "        y_pred[i] = 0\n",
    "# y_pred1 = np.where(y_pred== 1 , 0 , y_pred) \n",
    "# print(y_pred, y_test)\n",
    "acc = accuracy_score(y_test, y_pred )*100\n",
    "print(\"accuracy\", acc)"
   ]
  },
  {
   "cell_type": "markdown",
   "id": "21a6ce4b",
   "metadata": {},
   "source": [
    "We see that we get an accuracy of 100% using non linear SVM"
   ]
  },
  {
   "cell_type": "markdown",
   "id": "9e1e043e",
   "metadata": {},
   "source": [
    "Imported SVM from sklearn and implemented linear and poly for both"
   ]
  },
  {
   "cell_type": "code",
   "execution_count": 13,
   "id": "c3f62990",
   "metadata": {},
   "outputs": [
    {
     "name": "stdout",
     "output_type": "stream",
     "text": [
      "accuracy 68.0\n"
     ]
    },
    {
     "data": {
      "application/vnd.jupyter.widget-view+json": {
       "model_id": "6970cf01136347c9bf222f254a62e7d6",
       "version_major": 2,
       "version_minor": 0
      },
      "image/png": "[encoded data removed]",
      "text/html": [
       "\n",
       "            <div style=\"display: inline-block;\">\n",
       "                <div class=\"jupyter-widgets widget-label\" style=\"text-align: center;\">\n",
       "                    Figure\n",
       "                </div>\n",
       "                <img src='data:image/png;base64,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' width=640.0/>\n",
       "            </div>\n",
       "        "
      ],
      "text/plain": [
       "Canvas(toolbar=Toolbar(toolitems=[('Home', 'Reset original view', 'home', 'home'), ('Back', 'Back to previous …"
      ]
     },
     "metadata": {},
     "output_type": "display_data"
    }
   ],
   "source": [
    "from sklearn import svm\n",
    "clf = svm.SVC(kernel=\"linear\", C=5)\n",
    "clf.fit(X_train, y_train)\n",
    "fig = plt.figure()\n",
    "ax = plot_decision_regions(X_train, y_train, clf)\n",
    "fig.add_subplot(ax)\n",
    "y_pred = clf.predict(X_test)\n",
    "acc = accuracy_score(y_test, y_pred )*100\n",
    "print(\"accuracy\", acc)"
   ]
  },
  {
   "cell_type": "markdown",
   "id": "906cdbe9",
   "metadata": {},
   "source": [
    "We see that we get an accuracy of 68 using linear SVM"
   ]
  },
  {
   "cell_type": "code",
   "execution_count": 7,
   "id": "e0a01e61",
   "metadata": {},
   "outputs": [
    {
     "name": "stdout",
     "output_type": "stream",
     "text": [
      "accuracy 100.0\n"
     ]
    },
    {
     "data": {
      "application/vnd.jupyter.widget-view+json": {
       "model_id": "2a2787cf8c554b738927f6d801fc0d6b",
       "version_major": 2,
       "version_minor": 0
      },
      "image/png": "[encoded data removed]",
      "text/html": [
       "\n",
       "            <div style=\"display: inline-block;\">\n",
       "                <div class=\"jupyter-widgets widget-label\" style=\"text-align: center;\">\n",
       "                    Figure\n",
       "                </div>\n",
       "                <img src='data:image/png;base64,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' width=640.0/>\n",
       "            </div>\n",
       "        "
      ],
      "text/plain": [
       "Canvas(toolbar=Toolbar(toolitems=[('Home', 'Reset original view', 'home', 'home'), ('Back', 'Back to previous …"
      ]
     },
     "metadata": {},
     "output_type": "display_data"
    }
   ],
   "source": [
    "clf = svm.SVC(kernel=\"poly\",degree = 2)\n",
    "clf.fit(X_train, y_train)\n",
    "fig = plt.figure()\n",
    "ax = plot_decision_regions(X_train, y_train, clf)\n",
    "fig.add_subplot(ax)\n",
    "y_pred = clf.predict(X_test)\n",
    "acc = accuracy_score(y_test, y_pred )*100\n",
    "print(\"accuracy\", acc)"
   ]
  },
  {
   "cell_type": "markdown",
   "id": "abdd6e30",
   "metadata": {},
   "source": [
    "We get an accuracy of 100 using polynomial kernel"
   ]
  },
  {
   "cell_type": "markdown",
   "id": "2b82d524",
   "metadata": {},
   "source": [
    "We see that from the polynomial kernel we made form scratch we receive an accuracy of 100 and from the one imported from \n",
    "sklearn linear gives an accuracy of 68 and polynomial gives and accuracy of 100."
   ]
  },
  {
   "cell_type": "markdown",
   "id": "3b31f23c",
   "metadata": {},
   "source": [
    "# Multi Class SVM"
   ]
  },
  {
   "cell_type": "markdown",
   "id": "6c677f34",
   "metadata": {},
   "source": [
    "Loading Iris Dataset"
   ]
  },
  {
   "cell_type": "code",
   "execution_count": 14,
   "id": "55f4f0e1",
   "metadata": {},
   "outputs": [],
   "source": [
    "iris = datasets.load_iris()\n",
    "X,y = iris.data, iris.target"
   ]
  },
  {
   "cell_type": "code",
   "execution_count": 15,
   "id": "69b1d9a8",
   "metadata": {},
   "outputs": [],
   "source": [
    "def linear_kernel(x1, x2):\n",
    "    return x1.T @ x2\n",
    "def poly_kernel(x1, x2, d = 2, c = 0):\n",
    "    return (x1 @ x2.T + c)**d\n",
    "\n",
    "\n",
    "class multi_svm():\n",
    "    def __init__(self, kernel='linear', c=1.0, tol=1e-3, maxiter=50):\n",
    "        self._kernel = kernel\n",
    "        self._tol = tol\n",
    "        self._maxiter = maxiter\n",
    "        \n",
    "        if self._kernel == 'linear':\n",
    "            self._k = linear_kernel\n",
    "        elif self._kernel == 'poly':\n",
    "            self._k = poly_kernel\n",
    "        \n",
    "        self._c = c\n",
    "        \n",
    "    def _init_params(self):\n",
    "        self._error_cache = np.zeros(self._data.shape[0])\n",
    "        self._alphas = np.ones(self._data.shape[0]) * .1\n",
    "        self._b = 0\n",
    "        \n",
    "        self._weights = np.random.rand(self._data.shape[1])\n",
    "\n",
    "    def predict_score(self, x):\n",
    "        \"\"\"Predicts a raw score (not classification)\n",
    "        \n",
    "        Arguments\n",
    "            x, array (batch_size, n_features) - input samples.\n",
    "        \"\"\"\n",
    "        u = 0\n",
    "        if self._kernel == 'linear':\n",
    "            u = self._weights @ x.T - self._b\n",
    "        else:\n",
    "            for i in range(self._data.shape[0]):\n",
    "                u += self._targets[i] * self._alphas[i] * self._k(self._data[i], x)\n",
    "            u -= self._b\n",
    "\n",
    "        return u\n",
    "        \n",
    "    def predict(self, x):\n",
    "        \"\"\"Classifies input samples.\n",
    "        \n",
    "        Arguments\n",
    "            x, array (batch_size, n_features) - input samples.\n",
    "        \"\"\"\n",
    "        score = self.predict_score(x)\n",
    "\n",
    "        if type(score) is np.ndarray:\n",
    "            score[score < 0] = -1\n",
    "            score[score >= 0] = 1\n",
    "\n",
    "            return score\n",
    "        else:\n",
    "            return -1 if score < 0 else 1\n",
    "\n",
    "    def smo_step(self, i1, i2):\n",
    "        if i1 == i2:\n",
    "            return 0\n",
    "\n",
    "        x1 = self._data[i1]\n",
    "        x2 = self._data[i2]\n",
    "        y1 = self._targets[i1]\n",
    "        y2 = self._targets[i2]\n",
    "        alpha1 = self._alphas[i1]\n",
    "        alpha2 = self._alphas[i2]\n",
    "\n",
    "        # Compute errors for x1 and x2\n",
    "        e1 = self.predict_score(x1) - y1\n",
    "        e2 = self.predict_score(x2) - y2\n",
    "\n",
    "        s = y1 * y2\n",
    "\n",
    "        if s == 1:\n",
    "            L = max(0, alpha2 + alpha1 - self._c)\n",
    "            H = min(self._c, alpha2 + alpha1)\n",
    "        else:\n",
    "            L = max(0, alpha2 - alpha1)\n",
    "            H = min(self._c, self._c + alpha2 - alpha1)\n",
    "\n",
    "        if L == H:\n",
    "            return 0\n",
    "\n",
    "        k11 = self._k(x1, x1)\n",
    "        k22 = self._k(x2, x2)\n",
    "        k12 = self._k(x1, x2)\n",
    "\n",
    "        eta = k11 + k22 - 2 * k12\n",
    "\n",
    "        if eta > 0:\n",
    "            a2 = alpha2 + y2 * (e1 - e2) / eta\n",
    "            if a2 <= L:\n",
    "                a2 = L\n",
    "            elif a2 >= H:\n",
    "                a2 = H\n",
    "        # TODO: the negative case\n",
    "        else:\n",
    "            print(f\"[DEBUG] smo_step: eta = {eta}\")\n",
    "            \n",
    "        if np.abs(a2 - alpha2) < 1e-3 * (a2 + alpha2 + 1e-3):\n",
    "            return 0\n",
    "\n",
    "        a1 = alpha1 + s * (alpha2 - a2)\n",
    "\n",
    "        # Update threshold to reflect change in Lagrange multipliers\n",
    "        b1 = e1 + y1 * (a1 - alpha1) * k11 + y2 * (a2 - alpha2) * k12 + self._b\n",
    "        b2 = e2 + y1 * (a1 - alpha1) * k12 + y2 * (a2 - alpha2) * k22 + self._b\n",
    "        self._b = (b1 + b2) / 2\n",
    "\n",
    "        # Update weight vector to reflect change in a1 & a2, if SVM is linear\n",
    "        if self._kernel == 'linear':\n",
    "            self._weights = np.sum((self._targets * self._alphas)[:, None] * self._data, axis=0)\n",
    "        \n",
    "        # Store a1 and a2 in alpha array\n",
    "        self._alphas[i1] = a1\n",
    "        self._alphas[i2] = a2\n",
    "\n",
    "        # update error cache using new multipliers\n",
    "        for i in range (self._data.shape[0]):\n",
    "            self._error_cache[i] = self.predict_score(self._data[i]) - self._targets[i]\n",
    "\n",
    "        return 1\n",
    "\n",
    "    def examine(self, i2):\n",
    "        x2 = self._data[i2]\n",
    "        y2 = self._targets[i2]\n",
    "        alpha2 = self._alphas[i2]\n",
    "        e2 = self.predict_score(x2) - y2\n",
    "        r2 = e2 * y2\n",
    "\n",
    "        # Heuristic for picking the first multiplier\n",
    "        if (r2 < -self._tol and alpha2 < self._c) or (r2 > self._tol and alpha2 > 0):\n",
    "            f_idxs = np.where((self._alphas != 0) & (self._alphas != self._c))[0]\n",
    "\n",
    "            if len(f_idxs) > 1:\n",
    "                # Hueristic for second multiplier: get i1 with lowest absolute error |e1 - e2|\n",
    "\n",
    "                # TODO: Clean this up\n",
    "                if e2 > 0:\n",
    "                    min_error = 999999\n",
    "                    for i, v in enumerate(f_idxs):\n",
    "                        if v == i2:\n",
    "                            continue\n",
    "\n",
    "                        if self._error_cache[v] == 0:\n",
    "                            self._error_cache[v] = self.predict_score(self._data[v]) - self._targets[v]\n",
    "                        error = np.abs(e2 - self._error_cache[v])\n",
    "\n",
    "                        if error < min_error:\n",
    "                            min_error = error\n",
    "                            i1 = v\n",
    "                else:\n",
    "                    max_error = -999999\n",
    "                    for i, v in enumerate(f_idxs):\n",
    "                        if v == i2:\n",
    "                            continue\n",
    "\n",
    "                        if self._error_cache[v] == 0:\n",
    "                            self._error_cache[v] = self.predict_score(self._data[v]) - self._targets[v]\n",
    "                        error = np.abs(e2 - self._error_cache[v])\n",
    "\n",
    "                        if error > max_error:\n",
    "                            max_error = error\n",
    "                            i1 = v\n",
    "\n",
    "                if self.smo_step(i1, i2):\n",
    "                    return 1\n",
    "                \n",
    "                # Loop over all non-zero and non-C alpha, starting at random point\n",
    "                for i, v in enumerate(np.random.permutation(f_idxs)):\n",
    "                    if self.smo_step(v, i2):\n",
    "                        return 1\n",
    "                \n",
    "                # Loop over all possible i1, starting at a random point\n",
    "                for i, v in enumerate(np.random.permutation(range(self._data.shape[0]))):\n",
    "                    if v == i2:\n",
    "                        continue\n",
    "                    if self.smo_step(v, i2):\n",
    "                        return 1\n",
    "                \n",
    "        return 0\n",
    "    \n",
    "    def fit(self, data, targets):\n",
    "        self._data = data\n",
    "        self._targets = targets\n",
    "        \n",
    "        self._init_params()\n",
    "        \n",
    "        n_changed = 0\n",
    "        examine_all = True\n",
    "        n_iter = 0\n",
    "        \n",
    "        while (n_changed > 0 or examine_all is True) and n_iter < self._maxiter:\n",
    "            n_changed = 0\n",
    "            n_iter += 1\n",
    "            \n",
    "            if examine_all is True:\n",
    "                # loop over all training examples\n",
    "                for i in range(data.shape[0]):\n",
    "                    n_changed += self.examine(i)\n",
    "            else:\n",
    "                # loop over examples where alpha is not 0 & not C\n",
    "                f_idxs = np.where((self._alphas != 0) & (self._alphas != self._c))[0]\n",
    "                for i, v in enumerate(f_idxs):\n",
    "                    n_changed += self.examine(v)\n",
    "            \n",
    "            if examine_all is True:\n",
    "                examine_all = False\n",
    "            elif n_changed == 0:\n",
    "                examine_all = True"
   ]
  },
  {
   "cell_type": "markdown",
   "id": "d2fe04fa",
   "metadata": {},
   "source": [
    "0 vs rest [SETOSA]"
   ]
  },
  {
   "cell_type": "code",
   "execution_count": 16,
   "id": "ebd6f676",
   "metadata": {},
   "outputs": [
    {
     "name": "stdout",
     "output_type": "stream",
     "text": [
      "[0 0 0 0 0 0 0 0 0 0 0 0 0 0 0 0 0 0 0 0 0 0 0 0 0 0 0 0 0 0 0 0 0 0 0 0 0\n",
      " 0 0 0 0 0 0 0 0 0 0 0 0 0 1 1 1 1 1 1 1 1 1 1 1 1 1 1 1 1 1 1 1 1 1 1 1 1\n",
      " 1 1 1 1 1 1 1 1 1 1 1 1 1 1 1 1 1 1 1 1 1 1 1 1 1 1 1 1 1 1 1 1 1 1 1 1 1\n",
      " 1 1 1 1 1 1 1 1 1 1 1 1 1 1 1 1 1 1 1 1 1 1 1 1 1 1 1 1 1 1 1 1 1 1 1 1 1\n",
      " 1 1]\n"
     ]
    }
   ],
   "source": [
    "y1=[]\n",
    "for i in range(len(y)):\n",
    "    if(y[i] != 0):\n",
    "        y1.append(1)\n",
    "    else:\n",
    "        y1.append(0)\n",
    "y1 = np.array(y1)\n",
    "print(y1)"
   ]
  },
  {
   "cell_type": "markdown",
   "id": "94ea5516",
   "metadata": {},
   "source": [
    "splitting dataset into 90-10\n",
    "for all the dataset below we are considering 1 vs all like Setosa vs other two, versicolor vs other 2.\n",
    "we will first use linear and polynomial kernel from multiclass_svm created from scratch and then compare it with linear and poly kernel from SVM imported from sklearn."
   ]
  },
  {
   "cell_type": "code",
   "execution_count": 17,
   "id": "b073ab8d",
   "metadata": {},
   "outputs": [],
   "source": [
    "X_train, X_test, y_train, y_test = train_test_split(X, y1, test_size = 0.1, random_state = 42)"
   ]
  },
  {
   "cell_type": "code",
   "execution_count": 18,
   "id": "15eb7c33",
   "metadata": {},
   "outputs": [
    {
     "name": "stdout",
     "output_type": "stream",
     "text": [
      "[DEBUG] smo_step: eta = 0.0\n"
     ]
    },
    {
     "ename": "UnboundLocalError",
     "evalue": "local variable 'a2' referenced before assignment",
     "output_type": "error",
     "traceback": [
      "\u001b[1;31m---------------------------------------------------------------------------\u001b[0m",
      "\u001b[1;31mUnboundLocalError\u001b[0m                         Traceback (most recent call last)",
      "Input \u001b[1;32mIn [18]\u001b[0m, in \u001b[0;36m<cell line: 3>\u001b[1;34m()\u001b[0m\n\u001b[0;32m      1\u001b[0m clf \u001b[38;5;241m=\u001b[39m multi_svm(kernel \u001b[38;5;241m=\u001b[39m \u001b[38;5;124m'\u001b[39m\u001b[38;5;124mlinear\u001b[39m\u001b[38;5;124m'\u001b[39m)\n\u001b[1;32m----> 3\u001b[0m \u001b[43mclf\u001b[49m\u001b[38;5;241;43m.\u001b[39;49m\u001b[43mfit\u001b[49m\u001b[43m(\u001b[49m\u001b[43mX_train\u001b[49m\u001b[43m,\u001b[49m\u001b[43m \u001b[49m\u001b[43my_train\u001b[49m\u001b[43m)\u001b[49m\n\u001b[0;32m      4\u001b[0m \u001b[38;5;66;03m#print(clf._weights)\u001b[39;00m\n\u001b[0;32m      5\u001b[0m \u001b[38;5;28mprint\u001b[39m(clf\u001b[38;5;241m.\u001b[39m_b)\n",
      "Input \u001b[1;32mIn [15]\u001b[0m, in \u001b[0;36mmulti_svm.fit\u001b[1;34m(self, data, targets)\u001b[0m\n\u001b[0;32m    199\u001b[0m \u001b[38;5;28;01mif\u001b[39;00m examine_all \u001b[38;5;129;01mis\u001b[39;00m \u001b[38;5;28;01mTrue\u001b[39;00m:\n\u001b[0;32m    200\u001b[0m     \u001b[38;5;66;03m# loop over all training examples\u001b[39;00m\n\u001b[0;32m    201\u001b[0m     \u001b[38;5;28;01mfor\u001b[39;00m i \u001b[38;5;129;01min\u001b[39;00m \u001b[38;5;28mrange\u001b[39m(data\u001b[38;5;241m.\u001b[39mshape[\u001b[38;5;241m0\u001b[39m]):\n\u001b[1;32m--> 202\u001b[0m         n_changed \u001b[38;5;241m+\u001b[39m\u001b[38;5;241m=\u001b[39m \u001b[38;5;28;43mself\u001b[39;49m\u001b[38;5;241;43m.\u001b[39;49m\u001b[43mexamine\u001b[49m\u001b[43m(\u001b[49m\u001b[43mi\u001b[49m\u001b[43m)\u001b[49m\n\u001b[0;32m    203\u001b[0m \u001b[38;5;28;01melse\u001b[39;00m:\n\u001b[0;32m    204\u001b[0m     \u001b[38;5;66;03m# loop over examples where alpha is not 0 & not C\u001b[39;00m\n\u001b[0;32m    205\u001b[0m     f_idxs \u001b[38;5;241m=\u001b[39m np\u001b[38;5;241m.\u001b[39mwhere((\u001b[38;5;28mself\u001b[39m\u001b[38;5;241m.\u001b[39m_alphas \u001b[38;5;241m!=\u001b[39m \u001b[38;5;241m0\u001b[39m) \u001b[38;5;241m&\u001b[39m (\u001b[38;5;28mself\u001b[39m\u001b[38;5;241m.\u001b[39m_alphas \u001b[38;5;241m!=\u001b[39m \u001b[38;5;28mself\u001b[39m\u001b[38;5;241m.\u001b[39m_c))[\u001b[38;5;241m0\u001b[39m]\n",
      "Input \u001b[1;32mIn [15]\u001b[0m, in \u001b[0;36mmulti_svm.examine\u001b[1;34m(self, i2)\u001b[0m\n\u001b[0;32m    165\u001b[0m             max_error \u001b[38;5;241m=\u001b[39m error\n\u001b[0;32m    166\u001b[0m             i1 \u001b[38;5;241m=\u001b[39m v\n\u001b[1;32m--> 168\u001b[0m \u001b[38;5;28;01mif\u001b[39;00m \u001b[38;5;28;43mself\u001b[39;49m\u001b[38;5;241;43m.\u001b[39;49m\u001b[43msmo_step\u001b[49m\u001b[43m(\u001b[49m\u001b[43mi1\u001b[49m\u001b[43m,\u001b[49m\u001b[43m \u001b[49m\u001b[43mi2\u001b[49m\u001b[43m)\u001b[49m:\n\u001b[0;32m    169\u001b[0m     \u001b[38;5;28;01mreturn\u001b[39;00m \u001b[38;5;241m1\u001b[39m\n\u001b[0;32m    171\u001b[0m \u001b[38;5;66;03m# Loop over all non-zero and non-C alpha, starting at random point\u001b[39;00m\n",
      "Input \u001b[1;32mIn [15]\u001b[0m, in \u001b[0;36mmulti_svm.smo_step\u001b[1;34m(self, i1, i2)\u001b[0m\n\u001b[0;32m     98\u001b[0m \u001b[38;5;66;03m# TODO: the negative case\u001b[39;00m\n\u001b[0;32m     99\u001b[0m \u001b[38;5;28;01melse\u001b[39;00m:\n\u001b[0;32m    100\u001b[0m     \u001b[38;5;28mprint\u001b[39m(\u001b[38;5;124mf\u001b[39m\u001b[38;5;124m\"\u001b[39m\u001b[38;5;124m[DEBUG] smo_step: eta = \u001b[39m\u001b[38;5;132;01m{\u001b[39;00meta\u001b[38;5;132;01m}\u001b[39;00m\u001b[38;5;124m\"\u001b[39m)\n\u001b[1;32m--> 102\u001b[0m \u001b[38;5;28;01mif\u001b[39;00m np\u001b[38;5;241m.\u001b[39mabs(\u001b[43ma2\u001b[49m \u001b[38;5;241m-\u001b[39m alpha2) \u001b[38;5;241m<\u001b[39m \u001b[38;5;241m1e-3\u001b[39m \u001b[38;5;241m*\u001b[39m (a2 \u001b[38;5;241m+\u001b[39m alpha2 \u001b[38;5;241m+\u001b[39m \u001b[38;5;241m1e-3\u001b[39m):\n\u001b[0;32m    103\u001b[0m     \u001b[38;5;28;01mreturn\u001b[39;00m \u001b[38;5;241m0\u001b[39m\n\u001b[0;32m    105\u001b[0m a1 \u001b[38;5;241m=\u001b[39m alpha1 \u001b[38;5;241m+\u001b[39m s \u001b[38;5;241m*\u001b[39m (alpha2 \u001b[38;5;241m-\u001b[39m a2)\n",
      "\u001b[1;31mUnboundLocalError\u001b[0m: local variable 'a2' referenced before assignment"
     ]
    }
   ],
   "source": [
    "clf = multi_svm(kernel = 'linear')\n",
    "\n",
    "clf.fit(X_train, y_train)\n",
    "#print(clf._weights)\n",
    "print(clf._b)\n",
    "y_pred = clf.predict(X_test)\n",
    "print(y_pred)\n",
    "for i in range (len(y_pred)):\n",
    "    if y_pred[i] == -1:\n",
    "        y_pred[i] = 0\n",
    "    else:\n",
    "        y_pred[i] = 1\n",
    "print(y_pred, y_test)\n",
    "acc = accuracy_score(y_pred, y_test)\n",
    "print(acc*100)"
   ]
  },
  {
   "cell_type": "markdown",
   "id": "66d3107c",
   "metadata": {},
   "source": [
    "getting error a2 referenced before assignment as told by professor, we will ignore it for linear cases."
   ]
  },
  {
   "cell_type": "code",
   "execution_count": 19,
   "id": "8ea7ba10",
   "metadata": {},
   "outputs": [
    {
     "name": "stdout",
     "output_type": "stream",
     "text": [
      "2586.3495300911823\n",
      "[ 1.  1.  1.  1.  1. -1.  1.  1.  1.  1.  1. -1. -1. -1. -1.]\n",
      "[1. 1. 1. 1. 1. 0. 1. 1. 1. 1. 1. 0. 0. 0. 0.] [1 0 1 1 1 0 1 1 1 1 1 0 0 0 0]\n",
      "93.33333333333333\n"
     ]
    }
   ],
   "source": [
    "clf = multi_svm(kernel = 'poly')\n",
    "\n",
    "clf.fit(X_train, y_train)\n",
    "#print(clf._weights)\n",
    "print(clf._b)\n",
    "y_pred = clf.predict(X_test)\n",
    "print(y_pred)\n",
    "for i in range (len(y_pred)):\n",
    "    if y_pred[i] == -1:\n",
    "        y_pred[i] = 0\n",
    "    else:\n",
    "        y_pred[i] = 1\n",
    "print(y_pred, y_test)\n",
    "acc = accuracy_score(y_pred, y_test)\n",
    "print(acc*100)"
   ]
  },
  {
   "cell_type": "code",
   "execution_count": 20,
   "id": "f0d3d992",
   "metadata": {},
   "outputs": [
    {
     "name": "stdout",
     "output_type": "stream",
     "text": [
      "[[ 0.04631136 -0.52105578  1.0030165   0.46411816]]\n",
      "[-1.45338269]\n",
      "accuracy 100.0\n"
     ]
    }
   ],
   "source": [
    "model = svm.SVC(kernel = 'linear')\n",
    "model.fit(X_train, y_train)\n",
    "print(model.coef_)\n",
    "print(model.intercept_)\n",
    "y_pred = model.predict(X_test)\n",
    "acc = accuracy_score(y_test, y_pred)*(100)\n",
    "print(\"accuracy\", acc)"
   ]
  },
  {
   "cell_type": "code",
   "execution_count": 21,
   "id": "b6912ea8",
   "metadata": {},
   "outputs": [
    {
     "name": "stdout",
     "output_type": "stream",
     "text": [
      "[-1.13450738]\n",
      "accuracy 100.0\n"
     ]
    }
   ],
   "source": [
    "model = svm.SVC(kernel = 'poly')\n",
    "model.fit(X_train, y_train)\n",
    "# print(model.coef_)\n",
    "print(model.intercept_)\n",
    "\n",
    "y_pred = model.predict(X_test)\n",
    "acc = accuracy_score(y_test, y_pred)*(100)\n",
    "print(\"accuracy\", acc)"
   ]
  },
  {
   "cell_type": "markdown",
   "id": "eb87403c",
   "metadata": {},
   "source": [
    "We get an accuracy of 93 when we use the method made from scratch and 100 when we import svm, this may be because setosa samples are linearly seperable."
   ]
  },
  {
   "cell_type": "markdown",
   "id": "3bac37f7",
   "metadata": {},
   "source": [
    "1 vs rest (VIRGINCA)"
   ]
  },
  {
   "cell_type": "code",
   "execution_count": 22,
   "id": "33c7194b",
   "metadata": {},
   "outputs": [
    {
     "name": "stdout",
     "output_type": "stream",
     "text": [
      "[1 1 1 1 1 1 1 1 1 1 1 1 1 1 1 1 1 1 1 1 1 1 1 1 1 1 1 1 1 1 1 1 1 1 1 1 1\n",
      " 1 1 1 1 1 1 1 1 1 1 1 1 1 0 0 0 0 0 0 0 0 0 0 0 0 0 0 0 0 0 0 0 0 0 0 0 0\n",
      " 0 0 0 0 0 0 0 0 0 0 0 0 0 0 0 0 0 0 0 0 0 0 0 0 0 0 1 1 1 1 1 1 1 1 1 1 1\n",
      " 1 1 1 1 1 1 1 1 1 1 1 1 1 1 1 1 1 1 1 1 1 1 1 1 1 1 1 1 1 1 1 1 1 1 1 1 1\n",
      " 1 1]\n"
     ]
    }
   ],
   "source": [
    "y2=[]\n",
    "for i in range(len(y)):\n",
    "    if(y[i] == 1):\n",
    "        y2.append(0)\n",
    "    else:\n",
    "        y2.append(1)\n",
    "y2 = np.array(y2)\n",
    "print(y2)"
   ]
  },
  {
   "cell_type": "code",
   "execution_count": 32,
   "id": "686790cb",
   "metadata": {},
   "outputs": [],
   "source": [
    "X_train, X_test, y_train, y_test = train_test_split(X, y2, test_size = 0.1, random_state = 42)"
   ]
  },
  {
   "cell_type": "code",
   "execution_count": 38,
   "id": "b197d9a9",
   "metadata": {},
   "outputs": [
    {
     "name": "stdout",
     "output_type": "stream",
     "text": [
      "431269.76340000005\n",
      "[-1. -1.  1. -1. -1. -1. -1. -1. -1. -1. -1. -1. -1. -1. -1.]\n",
      "[0. 0. 1. 0. 0. 0. 0. 0. 0. 0. 0. 0. 0. 0. 0.] [1 1 0 1 1 1 1 0 1 1 0 1 1 1 1]\n",
      "13.333333333333334\n"
     ]
    }
   ],
   "source": [
    "clf = multi_svm(kernel = 'poly')\n",
    "\n",
    "clf.fit(X_train, y_train)\n",
    "#print(clf._weights)\n",
    "print(clf._b)\n",
    "y_pred = clf.predict(X_test)\n",
    "print(y_pred)\n",
    "for i in range (len(y_pred)):\n",
    "    if y_pred[i] == -1:\n",
    "        y_pred[i] = 0\n",
    "    else:\n",
    "        y_pred[i] = 1\n",
    "print(y_pred, y_test)\n",
    "acc = accuracy_score(y_pred, y_test)\n",
    "print(acc*100)"
   ]
  },
  {
   "cell_type": "code",
   "execution_count": 25,
   "id": "f720b8b3",
   "metadata": {},
   "outputs": [
    {
     "name": "stdout",
     "output_type": "stream",
     "text": [
      "[[-0.10886609  2.11282312 -0.44951812  1.33640535]]\n",
      "[-4.93269427]\n",
      "accuracy 80.0\n"
     ]
    }
   ],
   "source": [
    "model = svm.SVC(kernel = 'linear')\n",
    "model.fit(X_train, y_train)\n",
    "print(model.coef_)\n",
    "print(model.intercept_)\n",
    "y_pred = model.predict(X_test)\n",
    "acc = accuracy_score(y_test, y_pred)*(100)\n",
    "print(\"accuracy\", acc)"
   ]
  },
  {
   "cell_type": "code",
   "execution_count": 26,
   "id": "d2472131",
   "metadata": {},
   "outputs": [
    {
     "name": "stdout",
     "output_type": "stream",
     "text": [
      "[-1.07825882]\n",
      "accuracy 100.0\n"
     ]
    }
   ],
   "source": [
    "model = svm.SVC(kernel = 'poly')\n",
    "model.fit(X_train, y_train)\n",
    "# print(model.coef_)\n",
    "print(model.intercept_)\n",
    "\n",
    "y_pred = model.predict(X_test)\n",
    "acc = accuracy_score(y_test, y_pred)*(100)\n",
    "print(\"accuracy\", acc)"
   ]
  },
  {
   "cell_type": "markdown",
   "id": "1dd8fdac",
   "metadata": {},
   "source": [
    "we get an accuracy of 13% on the model made form scratch and an accuracy of 100 and 93 respectively using linear and poly SVM imported from sklearn"
   ]
  },
  {
   "cell_type": "markdown",
   "id": "736f0661",
   "metadata": {},
   "source": [
    "2 vs rest (VERSICOLOR)"
   ]
  },
  {
   "cell_type": "code",
   "execution_count": 35,
   "id": "0b025ee7",
   "metadata": {},
   "outputs": [
    {
     "name": "stdout",
     "output_type": "stream",
     "text": [
      "[1 1 1 1 1 1 1 1 1 1 1 1 1 1 1 1 1 1 1 1 1 1 1 1 1 1 1 1 1 1 1 1 1 1 1 1 1\n",
      " 1 1 1 1 1 1 1 1 1 1 1 1 1 1 1 1 1 1 1 1 1 1 1 1 1 1 1 1 1 1 1 1 1 1 1 1 1\n",
      " 1 1 1 1 1 1 1 1 1 1 1 1 1 1 1 1 1 1 1 1 1 1 1 1 1 1 0 0 0 0 0 0 0 0 0 0 0\n",
      " 0 0 0 0 0 0 0 0 0 0 0 0 0 0 0 0 0 0 0 0 0 0 0 0 0 0 0 0 0 0 0 0 0 0 0 0 0\n",
      " 0 0]\n"
     ]
    }
   ],
   "source": [
    "y3=[]\n",
    "for i in range(len(y)):\n",
    "    if(y[i] == 2):\n",
    "        y3.append(0)\n",
    "    else:\n",
    "        y3.append(1)\n",
    "y3 = np.array(y3)\n",
    "print(y3)"
   ]
  },
  {
   "cell_type": "code",
   "execution_count": 36,
   "id": "2f8f979d",
   "metadata": {},
   "outputs": [],
   "source": [
    "X_train, X_test, y_train, y_test = train_test_split(X, y3, test_size = 0.1, random_state = 42)"
   ]
  },
  {
   "cell_type": "code",
   "execution_count": 37,
   "id": "adbe89d2",
   "metadata": {},
   "outputs": [
    {
     "name": "stdout",
     "output_type": "stream",
     "text": [
      "431269.76340000005\n",
      "[-1. -1.  1. -1. -1. -1. -1. -1. -1. -1. -1. -1. -1. -1. -1.]\n",
      "[0. 0. 1. 0. 0. 0. 0. 0. 0. 0. 0. 0. 0. 0. 0.] [1 1 0 1 1 1 1 0 1 1 0 1 1 1 1]\n",
      "13.333333333333334\n"
     ]
    }
   ],
   "source": [
    "clf = multi_svm(kernel = 'poly')\n",
    "\n",
    "clf.fit(X_train, y_train)\n",
    "#print(clf._weights)\n",
    "print(clf._b)\n",
    "y_pred = clf.predict(X_test)\n",
    "print(y_pred)\n",
    "for i in range (len(y_pred)):\n",
    "    if y_pred[i] == -1:\n",
    "        y_pred[i] = 0\n",
    "    else:\n",
    "        y_pred[i] = 1\n",
    "print(y_pred, y_test)\n",
    "acc = accuracy_score(y_pred, y_test)\n",
    "print(acc*100)"
   ]
  },
  {
   "cell_type": "code",
   "execution_count": 30,
   "id": "0167d068",
   "metadata": {},
   "outputs": [
    {
     "name": "stdout",
     "output_type": "stream",
     "text": [
      "[[ 0.61511817  1.13966056 -2.01106294 -1.78632244]]\n",
      "[5.67440946]\n",
      "accuracy 100.0\n"
     ]
    }
   ],
   "source": [
    "model = svm.SVC(kernel = 'linear')\n",
    "model.fit(X_train, y_train)\n",
    "print(model.coef_)\n",
    "print(model.intercept_)\n",
    "y_pred = model.predict(X_test)\n",
    "acc = accuracy_score(y_test, y_pred)*(100)\n",
    "print(\"accuracy\", acc)"
   ]
  },
  {
   "cell_type": "code",
   "execution_count": 31,
   "id": "d4c1ba98",
   "metadata": {},
   "outputs": [
    {
     "name": "stdout",
     "output_type": "stream",
     "text": [
      "[2.15385055]\n",
      "accuracy 93.33333333333333\n"
     ]
    }
   ],
   "source": [
    "model = svm.SVC(kernel = 'poly')\n",
    "model.fit(X_train, y_train)\n",
    "# print(model.coef_)\n",
    "print(model.intercept_)\n",
    "\n",
    "y_pred = model.predict(X_test)\n",
    "acc = accuracy_score(y_test, y_pred)*(100)\n",
    "print(\"accuracy\", acc)"
   ]
  },
  {
   "cell_type": "markdown",
   "id": "5bff3db5",
   "metadata": {},
   "source": [
    "we get an accuracy of 13.33  on the model made by me from scratch(multi_svm) and 100 and 93 respectively on linear and poly svm imported from sklearn"
   ]
  },
  {
   "cell_type": "markdown",
   "id": "21d5a177",
   "metadata": {},
   "source": [
    "Our Model is not that good in every case we can see. The SVM imported from sklearn is performing better in each case. \n",
    "Surprisingly, linear SVM(imported from sklearn) is performing better for every case(accuracy of 100%). "
   ]
  },
  {
   "cell_type": "code",
   "execution_count": null,
   "id": "088ea2f3",
   "metadata": {},
   "outputs": [],
   "source": []
  }
 ],
 "metadata": {
  "kernelspec": {
   "display_name": "Python [conda env:cse6363] *",
   "language": "python",
   "name": "conda-env-cse6363-py"
  },
  "language_info": {
   "codemirror_mode": {
    "name": "ipython",
    "version": 3
   },
   "file_extension": ".py",
   "mimetype": "text/x-python",
   "name": "python",
   "nbconvert_exporter": "python",
   "pygments_lexer": "ipython3",
   "version": "3.10.4"
  }
 },
 "nbformat": 4,
 "nbformat_minor": 5
}
